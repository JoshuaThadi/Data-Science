{
 "cells": [
  {
   "cell_type": "markdown",
   "id": "a651099d-9e13-40bb-8e3e-3e308955bb8d",
   "metadata": {},
   "source": [
    "# DataScienceEcosystem.ipynb"
   ]
  },
  {
   "cell_type": "markdown",
   "id": "550a4015-4fca-47af-9b7e-ac912067a359",
   "metadata": {},
   "source": [
    "## In this notebook, Data Science Tools and Ecosystem are summarized."
   ]
  },
  {
   "cell_type": "markdown",
   "id": "a3e61948-1729-4840-a7ea-50b655d97a03",
   "metadata": {},
   "source": [
    "## List of Data Science Languages\n",
    "#### **Python | SQL | R | Julia | Ruby | Scala  | Java | MATLAB | C/C++ | JavaScript | Swift | Go | SAS**"
   ]
  },
  {
   "cell_type": "markdown",
   "id": "747d25e7-d79b-4d41-8770-ece795fa26b7",
   "metadata": {},
   "source": [
    "## List of data science libraries \n",
    "#### **Pandas | Numpy | Matplotlib | Seaborn | Plotly**"
   ]
  },
  {
   "cell_type": "markdown",
   "id": "2e9bac03-c607-4b43-9100-93c6424312b2",
   "metadata": {},
   "source": [
    "### Data Science Tools\n",
    "\n",
    "| Tool               | Description                              |\n",
    "|--------------------|------------------------------------------|\n",
    "| Jupyter Notebook   | Interactive coding and documentation     |\n",
    "| RStudio            | IDE for R programming                    |\n",
    "| Apache Spark       | Cluster computing framework              |\n",
    "| TensorFlow         | Deep learning framework                  |\n",
    "| Tableau            | Data visualization software              |\n",
    "| Excel              | Spreadsheet and data analysis tool       |\n",
    "| Power BI           | Business analytics tool                  |\n",
    "| SAS                | Statistical analysis software            |\n"
   ]
  },
  {
   "cell_type": "markdown",
   "id": "2ce14ecd-cdb8-489c-8527-7930c841fb94",
   "metadata": {},
   "source": [
    "### Arithmetic Expression Examples\n",
    "\n",
    "- **Addition**: `5 + 3 = 8`\n",
    "- **Subtraction**: `10 - 4 = 6`\n",
    "- **Multiplication**: `7 * 6 = 42`\n",
    "- **Division**: `20 / 5 = 4`\n",
    "- **Exponentiation**: `2 ** 3 = 8`"
   ]
  },
  {
   "cell_type": "code",
   "execution_count": 2,
   "id": "a6f8545f-4143-48a5-8b4f-6f9ff73bde5b",
   "metadata": {},
   "outputs": [
    {
     "name": "stdout",
     "output_type": "stream",
     "text": [
      "Product = 60\n",
      "Sum = 12\n"
     ]
    }
   ],
   "source": [
    "# Cell to multiply and add numbers\n",
    "\n",
    "num1 = 3; num2 = 4; num3 = 5\n",
    "product = num1 * num2 * num3\n",
    "sum = num1 + num2 + num3\n",
    "print(f\"Product = {product}\")\n",
    "print(f\"Sum = {sum}\")"
   ]
  },
  {
   "cell_type": "code",
   "execution_count": 11,
   "id": "409ff3a8-5338-4c62-87cb-b365d52aee3c",
   "metadata": {},
   "outputs": [
    {
     "name": "stdout",
     "output_type": "stream",
     "text": [
      "1440 minutes is equal to  24.0 hours\n"
     ]
    }
   ],
   "source": [
    "# cell to convert minutes to hours\n",
    "\n",
    "minutes = 1440\n",
    "hours = minutes / 60\n",
    "print(minutes, \"minutes is equal to \", hours, \"hours\")"
   ]
  },
  {
   "cell_type": "markdown",
   "id": "f3cdb11d-175f-48e8-bcf6-b592c4792bab",
   "metadata": {},
   "source": [
    "### **Objectives:**\n",
    "\n",
    "- List of languages for Data Science\n",
    "- Describe common libraries used in Data Science\n",
    "- Demonstrate examples of arithmetic expressions\n",
    "- simple program to convert minutes into hours\n"
   ]
  },
  {
   "cell_type": "markdown",
   "id": "ca812a25-170e-437b-987a-d5e9566184db",
   "metadata": {},
   "source": [
    "## Author - **Joshua Wilson Thadi**"
   ]
  },
  {
   "cell_type": "code",
   "execution_count": null,
   "id": "1bf8e3a0-0acf-46b2-9af8-3b4d06cb5a9b",
   "metadata": {},
   "outputs": [],
   "source": []
  }
 ],
 "metadata": {
  "kernelspec": {
   "display_name": "Python 3 (ipykernel)",
   "language": "python",
   "name": "python3"
  },
  "language_info": {
   "codemirror_mode": {
    "name": "ipython",
    "version": 3
   },
   "file_extension": ".py",
   "mimetype": "text/x-python",
   "name": "python",
   "nbconvert_exporter": "python",
   "pygments_lexer": "ipython3",
   "version": "3.12.7"
  }
 },
 "nbformat": 4,
 "nbformat_minor": 5
}
